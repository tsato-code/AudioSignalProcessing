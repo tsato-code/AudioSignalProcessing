{
 "cells": [
  {
   "cell_type": "code",
   "execution_count": 1,
   "metadata": {},
   "outputs": [],
   "source": [
    "import os\n",
    "import wave\n",
    "from scipy import fromstring, int16\n",
    "import matplotlib.pyplot as plt\n",
    "import warnings\n",
    "warnings.filterwarnings('ignore')"
   ]
  },
  {
   "cell_type": "code",
   "execution_count": 2,
   "metadata": {},
   "outputs": [],
   "source": [
    "INPUT_DIR = \"../data/input/cats_dogs/cats_dogs/\"\n",
    "data_list = os.listdir(INPUT_DIR)\n",
    "y = [0 if 'cat' in f else 1 for f in data_list]"
   ]
  },
  {
   "cell_type": "code",
   "execution_count": 3,
   "metadata": {},
   "outputs": [
    {
     "data": {
      "text/plain": [
       "['cat_74.wav',\n",
       " 'dog_barking_63.wav',\n",
       " 'cat_60.wav',\n",
       " 'dog_barking_77.wav',\n",
       " 'cat_48.wav']"
      ]
     },
     "execution_count": 3,
     "metadata": {},
     "output_type": "execute_result"
    }
   ],
   "source": [
    "data_list[:5]"
   ]
  },
  {
   "cell_type": "code",
   "execution_count": 4,
   "metadata": {},
   "outputs": [
    {
     "name": "stdout",
     "output_type": "stream",
     "text": [
      "Channel:  1\n",
      "Sample width:  2\n",
      "Frame Rate:  16000\n",
      "Frame num:  99200\n",
      "Params:  _wave_params(nchannels=1, sampwidth=2, framerate=16000, nframes=99200, comptype='NONE', compname='not compressed')\n",
      "Total time:  6.2\n"
     ]
    }
   ],
   "source": [
    "# ファイル読み込み\n",
    "read_file = os.path.join(INPUT_DIR, data_list[0])\n",
    "wr = wave.open(read_file, 'r')\n",
    "# wavファイルのステータス\n",
    "ch = wr.getnchannels()\n",
    "width = wr.getsampwidth()\n",
    "fr = wr.getframerate()\n",
    "fn = wr.getnframes()\n",
    "print(\"Channel: \", ch)\n",
    "print(\"Sample width: \", width)\n",
    "print(\"Frame Rate: \", fr)\n",
    "print(\"Frame num: \", fn)\n",
    "print(\"Params: \", wr.getparams())\n",
    "print(\"Total time: \", 1.0 * fn / fr)\n",
    "# waveの実データを取得し、数値化\n",
    "data = wr.readframes(wr.getnframes())\n",
    "wr.close()\n",
    "X = fromstring(data, dtype=int16)"
   ]
  },
  {
   "cell_type": "code",
   "execution_count": 5,
   "metadata": {},
   "outputs": [
    {
     "data": {
      "image/png": "[encoded data removed]",
      "text/plain": [
       "<Figure size 432x288 with 1 Axes>"
      ]
     },
     "metadata": {},
     "output_type": "display_data"
    }
   ],
   "source": [
    "plt.figure()\n",
    "plt.plot(X)\n",
    "plt.show()"
   ]
  }
 ],
 "metadata": {
  "kernelspec": {
   "display_name": "Python 3",
   "language": "python",
   "name": "python3"
  },
  "language_info": {
   "codemirror_mode": {
    "name": "ipython",
    "version": 3
   },
   "file_extension": ".py",
   "mimetype": "text/x-python",
   "name": "python",
   "nbconvert_exporter": "python",
   "pygments_lexer": "ipython3",
   "version": "3.6.6"
  }
 },
 "nbformat": 4,
 "nbformat_minor": 2
}
